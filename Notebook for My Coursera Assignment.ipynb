{
    "cells": [
        {
            "cell_type": "markdown",
            "metadata": {
                "collapsed": true
            },
            "source": "# My Jupyter Notebook on IBM Watson Studio"
        },
        {
            "cell_type": "markdown",
            "metadata": {},
            "source": "**Mochamad Bahri Nurhabbibi**\n\nSenior System Analyst in a System Integrator Company"
        },
        {
            "cell_type": "markdown",
            "metadata": {},
            "source": "*I am interested in data science because it could discover many insight, solve many problems and increase life quality*"
        },
        {
            "cell_type": "markdown",
            "metadata": {},
            "source": "### Code to Calculate the Profit of a GOOGL trade ###"
        },
        {
            "cell_type": "code",
            "execution_count": 23,
            "metadata": {
                "scrolled": true
            },
            "outputs": [
                {
                    "name": "stdout",
                    "output_type": "stream",
                    "text": "sell price is 1420\nbuy price is 1270\nprofit is 150\nTotal Profit in percentage: 11.81%\n"
                }
            ],
            "source": "print (\"sell price is 1420\")\nprint (\"buy price is 1270\")\nprint (\"profit is\", 1420-1270)\nx=(150/1270)\nprint(\"Total Profit in percentage: \"+\"{:.2%}\".format(x));\n"
        },
        {
            "cell_type": "markdown",
            "metadata": {},
            "source": "####trade history####\n---\n\nStock | Buy | Sell | Profit\n---| --- | --- | ---\n*AMZN* | `300` | `340` | **20**\n*GOOGL* | `400` | `740` | **340**\n*FBCK* | `500` | `640` | **140**\n\n\n> everything you need to know is right there in front of you"
        },
        {
            "cell_type": "code",
            "execution_count": null,
            "metadata": {},
            "outputs": [],
            "source": ""
        }
    ],
    "metadata": {
        "kernelspec": {
            "display_name": "Python 3.6",
            "language": "python",
            "name": "python3"
        },
        "language_info": {
            "codemirror_mode": {
                "name": "ipython",
                "version": 3
            },
            "file_extension": ".py",
            "mimetype": "text/x-python",
            "name": "python",
            "nbconvert_exporter": "python",
            "pygments_lexer": "ipython3",
            "version": "3.6.9"
        }
    },
    "nbformat": 4,
    "nbformat_minor": 1
}